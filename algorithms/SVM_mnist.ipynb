{
  "nbformat": 4,
  "nbformat_minor": 0,
  "metadata": {
    "colab": {
      "name": "Copy of SVM_mnist.ipynb",
      "version": "0.3.2",
      "provenance": [],
      "collapsed_sections": [],
      "include_colab_link": true
    },
    "kernelspec": {
      "name": "python3",
      "display_name": "Python 3"
    }
  },
  "cells": [
    {
      "cell_type": "markdown",
      "metadata": {
        "id": "view-in-github",
        "colab_type": "text"
      },
      "source": [
        "<a href=\"https://colab.research.google.com/github/mangesh-trimbake/Colaboratory/blob/master/algorithms/SVM_mnist.ipynb\" target=\"_parent\"><img src=\"https://colab.research.google.com/assets/colab-badge.svg\" alt=\"Open In Colab\"/></a>"
      ]
    },
    {
      "metadata": {
        "id": "_LXHOA61XsQ3",
        "colab_type": "code",
        "colab": {}
      },
      "cell_type": "code",
      "source": [
        "# !pip install \n",
        "# from mnist import MNIST\n",
        "from sklearn import datasets, svm, metrics\n",
        "import pickle\n",
        "import time\n",
        "import numpy as np\n",
        "import pandas as pd"
      ],
      "execution_count": 0,
      "outputs": []
    },
    {
      "metadata": {
        "id": "Hi0SXReDYJFC",
        "colab_type": "code",
        "colab": {}
      },
      "cell_type": "code",
      "source": [
        "#!pip install python-mnist"
      ],
      "execution_count": 0,
      "outputs": []
    },
    {
      "metadata": {
        "id": "o4rTziO3YWGt",
        "colab_type": "code",
        "colab": {
          "base_uri": "https://localhost:8080/",
          "height": 527
        },
        "outputId": "4f171ff8-db7d-4055-e04d-98eb05b22097"
      },
      "cell_type": "code",
      "source": [
        "train=pd.read_csv('sample_data/mnist_train_small.csv',header=-1)\n",
        "test=pd.read_csv('sample_data/mnist_test.csv',header=-1)\n",
        "print(train.head())\n",
        "print(test.head())"
      ],
      "execution_count": 3,
      "outputs": [
        {
          "output_type": "stream",
          "text": [
            "   0    1    2    3    4    5    6    7    8    9   ...   775  776  777  778  \\\n",
            "0    6    0    0    0    0    0    0    0    0    0 ...     0    0    0    0   \n",
            "1    5    0    0    0    0    0    0    0    0    0 ...     0    0    0    0   \n",
            "2    7    0    0    0    0    0    0    0    0    0 ...     0    0    0    0   \n",
            "3    9    0    0    0    0    0    0    0    0    0 ...     0    0    0    0   \n",
            "4    5    0    0    0    0    0    0    0    0    0 ...     0    0    0    0   \n",
            "\n",
            "   779  780  781  782  783  784  \n",
            "0    0    0    0    0    0    0  \n",
            "1    0    0    0    0    0    0  \n",
            "2    0    0    0    0    0    0  \n",
            "3    0    0    0    0    0    0  \n",
            "4    0    0    0    0    0    0  \n",
            "\n",
            "[5 rows x 785 columns]\n",
            "   0    1    2    3    4    5    6    7    8    9   ...   775  776  777  778  \\\n",
            "0    7    0    0    0    0    0    0    0    0    0 ...     0    0    0    0   \n",
            "1    2    0    0    0    0    0    0    0    0    0 ...     0    0    0    0   \n",
            "2    1    0    0    0    0    0    0    0    0    0 ...     0    0    0    0   \n",
            "3    0    0    0    0    0    0    0    0    0    0 ...     0    0    0    0   \n",
            "4    4    0    0    0    0    0    0    0    0    0 ...     0    0    0    0   \n",
            "\n",
            "   779  780  781  782  783  784  \n",
            "0    0    0    0    0    0    0  \n",
            "1    0    0    0    0    0    0  \n",
            "2    0    0    0    0    0    0  \n",
            "3    0    0    0    0    0    0  \n",
            "4    0    0    0    0    0    0  \n",
            "\n",
            "[5 rows x 785 columns]\n"
          ],
          "name": "stdout"
        }
      ]
    },
    {
      "metadata": {
        "id": "cVuOJHbyafyf",
        "colab_type": "code",
        "colab": {}
      },
      "cell_type": "code",
      "source": [
        "data_train=train.iloc[:,1:].values\n",
        "label_train=train.iloc[:,0].values\n",
        "\n",
        "\n",
        "data_test=test.iloc[:,1:].values\n",
        "label_test=test.iloc[:,0].values\n",
        "\n",
        "data_train[data_train>0]=1\n",
        "data_test[data_test>0]=1\n"
      ],
      "execution_count": 0,
      "outputs": []
    },
    {
      "metadata": {
        "id": "qPvF1vWxaFPV",
        "colab_type": "code",
        "colab": {}
      },
      "cell_type": "code",
      "source": [
        "classifier = svm.SVC(gamma=0.001)"
      ],
      "execution_count": 0,
      "outputs": []
    },
    {
      "metadata": {
        "id": "yUZ4jAZAaGtX",
        "colab_type": "code",
        "outputId": "45cc7f2f-ccf0-490a-b330-06c0a04697a9",
        "colab": {
          "base_uri": "https://localhost:8080/",
          "height": 34
        }
      },
      "cell_type": "code",
      "source": [
        "start = time. time()\n",
        "classifier.fit(data_train,label_train)\n",
        "end = time. time()\n",
        "print(start,end,\"time required = \",end - start)"
      ],
      "execution_count": 6,
      "outputs": [
        {
          "output_type": "stream",
          "text": [
            "1548729957.9672518 1548730127.1231136 time required =  169.15586185455322\n"
          ],
          "name": "stdout"
        }
      ]
    },
    {
      "metadata": {
        "id": "66ltqS8PbWNE",
        "colab_type": "code",
        "colab": {}
      },
      "cell_type": "code",
      "source": [
        "pickle.dump(classifier, open('svm_dump', 'wb'))"
      ],
      "execution_count": 0,
      "outputs": []
    },
    {
      "metadata": {
        "id": "iiKAMTluvzHY",
        "colab_type": "code",
        "outputId": "d8f43189-355e-430f-97d2-9f9dc72d85bd",
        "colab": {
          "base_uri": "https://localhost:8080/",
          "height": 306
        }
      },
      "cell_type": "code",
      "source": [
        ""
      ],
      "execution_count": 0,
      "outputs": [
        {
          "output_type": "stream",
          "text": [
            "<class 'numpy.ndarray'> (9999, 784)\n",
            "   7  0  0.1  0.2  0.3  0.4  0.5  0.6  0.7  0.8  ...    0.658  0.659  0.660  \\\n",
            "0  2  0    0    0    0    0    0    0    0    0  ...        0      0      0   \n",
            "1  1  0    0    0    0    0    0    0    0    0  ...        0      0      0   \n",
            "2  0  0    0    0    0    0    0    0    0    0  ...        0      0      0   \n",
            "3  4  0    0    0    0    0    0    0    0    0  ...        0      0      0   \n",
            "4  1  0    0    0    0    0    0    0    0    0  ...        0      0      0   \n",
            "\n",
            "   0.661  0.662  0.663  0.664  0.665  0.666  0.667  \n",
            "0      0      0      0      0      0      0      0  \n",
            "1      0      0      0      0      0      0      0  \n",
            "2      0      0      0      0      0      0      0  \n",
            "3      0      0      0      0      0      0      0  \n",
            "4      0      0      0      0      0      0      0  \n",
            "\n",
            "[5 rows x 785 columns]\n",
            "2\n"
          ],
          "name": "stdout"
        }
      ]
    },
    {
      "metadata": {
        "id": "HEOG3Flhv6NJ",
        "colab_type": "code",
        "outputId": "e8b18f92-ba5d-4b41-bfe2-fbc5b1be0b21",
        "colab": {
          "base_uri": "https://localhost:8080/",
          "height": 51
        }
      },
      "cell_type": "code",
      "source": [
        "predicted_val = classifier.predict(data_test[0:10])\n",
        "print(label_test[0:10])\n",
        "print(predicted_val)\n"
      ],
      "execution_count": 9,
      "outputs": [
        {
          "output_type": "stream",
          "text": [
            "[7 2 1 0 4 1 4 9 5 9]\n",
            "[7 2 1 0 4 1 4 9 6 9]\n"
          ],
          "name": "stdout"
        }
      ]
    },
    {
      "metadata": {
        "id": "4SMUvmJwyqiH",
        "colab_type": "code",
        "colab": {
          "base_uri": "https://localhost:8080/",
          "height": 34
        },
        "outputId": "a0a2f4a1-390d-4e58-9be3-10e60a178421"
      },
      "cell_type": "code",
      "source": [
        "from sklearn.metrics import accuracy_score\n",
        "\n",
        "predicted_val_all = classifier.predict(data_test)\n",
        "\n",
        "accu = accuracy_score(label_test, predicted_val_all)\n",
        "print(accu)"
      ],
      "execution_count": 10,
      "outputs": [
        {
          "output_type": "stream",
          "text": [
            "0.9325\n"
          ],
          "name": "stdout"
        }
      ]
    },
    {
      "metadata": {
        "id": "ljPpMorHjACP",
        "colab_type": "code",
        "colab": {}
      },
      "cell_type": "code",
      "source": [
        ""
      ],
      "execution_count": 0,
      "outputs": []
    }
  ]
}