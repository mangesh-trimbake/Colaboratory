{
  "nbformat": 4,
  "nbformat_minor": 0,
  "metadata": {
    "colab": {
      "name": "SVM_mnist.ipynb",
      "version": "0.3.2",
      "provenance": [],
      "collapsed_sections": [],
      "include_colab_link": true
    },
    "kernelspec": {
      "name": "python3",
      "display_name": "Python 3"
    }
  },
  "cells": [
    {
      "cell_type": "markdown",
      "metadata": {
        "id": "view-in-github",
        "colab_type": "text"
      },
      "source": [
        "<a href=\"https://colab.research.google.com/github/mangesh-trimbake/Colaboratory/blob/master/algorithms/SVM_mnist.ipynb\" target=\"_parent\"><img src=\"https://colab.research.google.com/assets/colab-badge.svg\" alt=\"Open In Colab\"/></a>"
      ]
    },
    {
      "metadata": {
        "id": "_LXHOA61XsQ3",
        "colab_type": "code",
        "colab": {}
      },
      "cell_type": "code",
      "source": [
        "from mnist import MNIST\n",
        "from sklearn import datasets, svm, metrics\n",
        "import pickle\n",
        "import time\n",
        "import numpy as np\n",
        "import pandas as pd"
      ],
      "execution_count": 0,
      "outputs": []
    },
    {
      "metadata": {
        "id": "Hi0SXReDYJFC",
        "colab_type": "code",
        "colab": {}
      },
      "cell_type": "code",
      "source": [
        "#!pip install python-mnist"
      ],
      "execution_count": 0,
      "outputs": []
    },
    {
      "metadata": {
        "id": "o4rTziO3YWGt",
        "colab_type": "code",
        "colab": {}
      },
      "cell_type": "code",
      "source": [
        "train=pd.read_csv('sample_data/mnist_train_small.csv')\n",
        "data_test=pd.read_csv('sample_data/mnist_test.csv')"
      ],
      "execution_count": 0,
      "outputs": []
    },
    {
      "metadata": {
        "id": "cVuOJHbyafyf",
        "colab_type": "code",
        "colab": {
          "base_uri": "https://localhost:8080/",
          "height": 34
        },
        "outputId": "bd3dac20-039e-46b5-b5c6-309aa2b2c039"
      },
      "cell_type": "code",
      "source": [
        "print(type(train),train.shape)\n",
        "train.head()\n",
        "data_train=train.iloc[:,1:].values\n",
        "label_train=train.iloc[:,0].values\n"
      ],
      "execution_count": 67,
      "outputs": [
        {
          "output_type": "stream",
          "text": [
            "<class 'pandas.core.frame.DataFrame'> (19999, 785)\n"
          ],
          "name": "stdout"
        }
      ]
    },
    {
      "metadata": {
        "id": "qPvF1vWxaFPV",
        "colab_type": "code",
        "colab": {}
      },
      "cell_type": "code",
      "source": [
        "classifier = svm.SVC(gamma=0.001)"
      ],
      "execution_count": 0,
      "outputs": []
    },
    {
      "metadata": {
        "id": "yUZ4jAZAaGtX",
        "colab_type": "code",
        "colab": {
          "base_uri": "https://localhost:8080/",
          "height": 34
        },
        "outputId": "dbc366f1-9413-4ee5-ac57-550b1dc63050"
      },
      "cell_type": "code",
      "source": [
        "start = time. time()\n",
        "classifier.fit(data_train,label_train)\n",
        "end = time. time()\n",
        "print(start,end,end - start)"
      ],
      "execution_count": 69,
      "outputs": [
        {
          "output_type": "stream",
          "text": [
            "1548699268.5360858 1548700354.8986552 1086.3625693321228\n"
          ],
          "name": "stdout"
        }
      ]
    },
    {
      "metadata": {
        "id": "66ltqS8PbWNE",
        "colab_type": "code",
        "colab": {}
      },
      "cell_type": "code",
      "source": [
        "pickle.dump(classifier, open('svm_dump', 'wb'))"
      ],
      "execution_count": 0,
      "outputs": []
    },
    {
      "metadata": {
        "id": "iiKAMTluvzHY",
        "colab_type": "code",
        "colab": {
          "base_uri": "https://localhost:8080/",
          "height": 306
        },
        "outputId": "d8f43189-355e-430f-97d2-9f9dc72d85bd"
      },
      "cell_type": "code",
      "source": [
        "data_test1=pd.read_csv('sample_data/mnist_test.csv')\n",
        "\n",
        "print(type(data_test),data_test.shape)\n",
        "print(data_test1.head())\n",
        "\n",
        "# data_test=data_test.values\n",
        "\n",
        "data_test=data_test1.iloc[:,1:].values\n",
        "label_test=data_test1.iloc[:,0].values\n",
        "\n",
        "print(label_test[0])\n",
        "\n",
        "# predicted_val = classifier.predict()"
      ],
      "execution_count": 77,
      "outputs": [
        {
          "output_type": "stream",
          "text": [
            "<class 'numpy.ndarray'> (9999, 784)\n",
            "   7  0  0.1  0.2  0.3  0.4  0.5  0.6  0.7  0.8  ...    0.658  0.659  0.660  \\\n",
            "0  2  0    0    0    0    0    0    0    0    0  ...        0      0      0   \n",
            "1  1  0    0    0    0    0    0    0    0    0  ...        0      0      0   \n",
            "2  0  0    0    0    0    0    0    0    0    0  ...        0      0      0   \n",
            "3  4  0    0    0    0    0    0    0    0    0  ...        0      0      0   \n",
            "4  1  0    0    0    0    0    0    0    0    0  ...        0      0      0   \n",
            "\n",
            "   0.661  0.662  0.663  0.664  0.665  0.666  0.667  \n",
            "0      0      0      0      0      0      0      0  \n",
            "1      0      0      0      0      0      0      0  \n",
            "2      0      0      0      0      0      0      0  \n",
            "3      0      0      0      0      0      0      0  \n",
            "4      0      0      0      0      0      0      0  \n",
            "\n",
            "[5 rows x 785 columns]\n",
            "2\n"
          ],
          "name": "stdout"
        }
      ]
    },
    {
      "metadata": {
        "id": "HEOG3Flhv6NJ",
        "colab_type": "code",
        "colab": {
          "base_uri": "https://localhost:8080/",
          "height": 51
        },
        "outputId": "81aed713-f04f-4632-a532-a7719557a1d1"
      },
      "cell_type": "code",
      "source": [
        "predicted_val = classifier.predict(data_test[0:5])\n",
        "print(label_test[0:5])\n",
        "print(predicted_val)\n"
      ],
      "execution_count": 83,
      "outputs": [
        {
          "output_type": "stream",
          "text": [
            "[2 1 0 4 1]\n",
            "[1 1 1 1 1]\n"
          ],
          "name": "stdout"
        }
      ]
    },
    {
      "metadata": {
        "id": "4SMUvmJwyqiH",
        "colab_type": "code",
        "colab": {}
      },
      "cell_type": "code",
      "source": [
        ""
      ],
      "execution_count": 0,
      "outputs": []
    }
  ]
}